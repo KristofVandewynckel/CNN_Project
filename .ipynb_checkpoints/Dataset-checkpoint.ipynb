{
 "cells": [
  {
   "cell_type": "code",
   "execution_count": 10,
   "id": "255f1229",
   "metadata": {},
   "outputs": [],
   "source": [
    "import pandas as pd\n",
    "import numpy as np\n",
    "import tensorflow as tf\n",
    "from matplotlib import pyplot as plt\n",
    "from tensorflow import keras\n",
    "%matplotlib inline"
   ]
  },
  {
   "cell_type": "code",
   "execution_count": 2,
   "id": "d5b2d31a",
   "metadata": {},
   "outputs": [],
   "source": [
    "from keras.applications.mobilenet_v2 import preprocess_input\n",
    "import numpy as np\n",
    "import os\n",
    "\n",
    "def get_preprocessed_images(images_directory: str, image_size: tuple) -> list:\n",
    "    images = []\n",
    "    for img in os.listdir(images_directory):\n",
    "        img = image.load_img(images_directory+img, target_size=image_size)\n",
    "        img = image.img_to_array(img)\n",
    "        img = img.reshape((1, img.shape[0], img.shape[1], img.shape[2]))\n",
    "        img = preprocess_input(img)\n",
    "        images.append(img)\n",
    "    return np.vstack(images)"
   ]
  },
  {
   "cell_type": "code",
   "execution_count": 7,
   "id": "08f4dcbf",
   "metadata": {},
   "outputs": [
    {
     "name": "stdout",
     "output_type": "stream",
     "text": [
      "(10015, 200, 200, 3) (10015, 2)\n"
     ]
    }
   ],
   "source": [
    "# Import the keras preprocessing method.\n",
    "from tensorflow.keras.preprocessing import image\n",
    "\n",
    "# Load your images and preprocess them.\n",
    "mole_images_part1 = get_preprocessed_images(\"../../images/HAM10000_images_part_1/\", (200,200))\n",
    "mole_images_part2 = get_preprocessed_images(\"../../images/HAM10000_images_part_2/\", (200,200))\n",
    "\n",
    "# Make a numpy array for each of the class labels (one hot encoded).\n",
    "mole_images_part1_labels = np.tile([1, 0], (mole_images_part1.shape[0], 1))\n",
    "mole_images_part2_labels = np.tile([0, 1], (mole_images_part2.shape[0], 1))\n",
    "\n",
    "# Concatenate your images and your labels into X and y.\n",
    "X = np.concatenate([mole_images_part1, mole_images_part2])\n",
    "y = np.concatenate([mole_images_part1_labels, mole_images_part2_labels])\n",
    "\n",
    "print(X.shape, y.shape)"
   ]
  },
  {
   "cell_type": "code",
   "execution_count": 15,
   "id": "6657dfb9",
   "metadata": {},
   "outputs": [],
   "source": [
    "from sklearn.model_selection import train_test_split"
   ]
  },
  {
   "cell_type": "code",
   "execution_count": 17,
   "id": "00b9d3e0",
   "metadata": {},
   "outputs": [],
   "source": [
    "import seaborn as sns"
   ]
  },
  {
   "cell_type": "code",
   "execution_count": null,
   "id": "a2dc1046",
   "metadata": {},
   "outputs": [],
   "source": []
  },
  {
   "cell_type": "code",
   "execution_count": null,
   "id": "9de01de9",
   "metadata": {},
   "outputs": [],
   "source": []
  }
 ],
 "metadata": {
  "kernelspec": {
   "display_name": "tf",
   "language": "python",
   "name": "tf"
  },
  "language_info": {
   "codemirror_mode": {
    "name": "ipython",
    "version": 3
   },
   "file_extension": ".py",
   "mimetype": "text/x-python",
   "name": "python",
   "nbconvert_exporter": "python",
   "pygments_lexer": "ipython3",
   "version": "3.9.12"
  }
 },
 "nbformat": 4,
 "nbformat_minor": 5
}
