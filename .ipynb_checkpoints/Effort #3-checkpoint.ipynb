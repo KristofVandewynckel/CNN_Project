{
 "cells": [
  {
   "cell_type": "code",
   "execution_count": 32,
   "id": "2c9d449d",
   "metadata": {},
   "outputs": [],
   "source": [
    "import pandas as pd\n",
    "import tensorflow as tf\n",
    "import numpy as np\n",
    "from keras.models import Sequential\n",
    "from keras import optimizers\n",
    "from keras.layers import Dense, Conv2D, Dropout, Flatten, MaxPooling2D\n",
    "from tensorflow.keras.applications.mobilenet_v2 import MobileNetV2\n",
    "#from tensorflow.keras.applications.resnet50 import resnet50\n",
    "#from tensorflow.keras.applications.resnet50 import preprocess_input"
   ]
  },
  {
   "cell_type": "code",
   "execution_count": 33,
   "id": "2491c6dc",
   "metadata": {},
   "outputs": [],
   "source": [
    "base_model = MobileNetV2( input_shape=(128,128,3),include_top=False, weights='imagenet')"
   ]
  },
  {
   "cell_type": "code",
   "execution_count": 34,
   "id": "787c55e7",
   "metadata": {},
   "outputs": [],
   "source": [
    "model = Sequential()\n",
    "model.add(base_model)\n",
    "#model.add(Conv2D(64,(3, 3), activation ='relu'))\n",
    "#model.add(MaxPooling2D(pool_size = (2, 2)))\n",
    "model.add(Flatten())\n",
    "model.add(Dense(128, activation ='relu'))\n",
    "model.add(Dropout(0.4))\n",
    "model.add(Dense(7, activation='sigmoid'))"
   ]
  },
  {
   "cell_type": "code",
   "execution_count": 35,
   "id": "f118d4b8",
   "metadata": {},
   "outputs": [],
   "source": [
    "data = pd.read_csv('../../images/HAM10000_metadata.csv')\n",
    "data['image_full_name']= data['image_id']+'.jpg'\n",
    "X=data[['image_full_name','dx','lesion_id']]"
   ]
  },
  {
   "cell_type": "code",
   "execution_count": 36,
   "id": "ef07934b",
   "metadata": {},
   "outputs": [
    {
     "data": {
      "text/html": [
       "<div>\n",
       "<style scoped>\n",
       "    .dataframe tbody tr th:only-of-type {\n",
       "        vertical-align: middle;\n",
       "    }\n",
       "\n",
       "    .dataframe tbody tr th {\n",
       "        vertical-align: top;\n",
       "    }\n",
       "\n",
       "    .dataframe thead th {\n",
       "        text-align: right;\n",
       "    }\n",
       "</style>\n",
       "<table border=\"1\" class=\"dataframe\">\n",
       "  <thead>\n",
       "    <tr style=\"text-align: right;\">\n",
       "      <th></th>\n",
       "      <th>image_full_name</th>\n",
       "      <th>dx</th>\n",
       "      <th>lesion_id</th>\n",
       "    </tr>\n",
       "  </thead>\n",
       "  <tbody>\n",
       "    <tr>\n",
       "      <th>4892</th>\n",
       "      <td>ISIC_0030199.jpg</td>\n",
       "      <td>nv</td>\n",
       "      <td>HAM_0001165</td>\n",
       "    </tr>\n",
       "    <tr>\n",
       "      <th>2429</th>\n",
       "      <td>ISIC_0029877.jpg</td>\n",
       "      <td>vasc</td>\n",
       "      <td>HAM_0006193</td>\n",
       "    </tr>\n",
       "    <tr>\n",
       "      <th>9443</th>\n",
       "      <td>ISIC_0034053.jpg</td>\n",
       "      <td>nv</td>\n",
       "      <td>HAM_0001442</td>\n",
       "    </tr>\n",
       "    <tr>\n",
       "      <th>8573</th>\n",
       "      <td>ISIC_0030733.jpg</td>\n",
       "      <td>nv</td>\n",
       "      <td>HAM_0006245</td>\n",
       "    </tr>\n",
       "    <tr>\n",
       "      <th>2091</th>\n",
       "      <td>ISIC_0024961.jpg</td>\n",
       "      <td>mel</td>\n",
       "      <td>HAM_0006006</td>\n",
       "    </tr>\n",
       "  </tbody>\n",
       "</table>\n",
       "</div>"
      ],
      "text/plain": [
       "       image_full_name    dx    lesion_id\n",
       "4892  ISIC_0030199.jpg    nv  HAM_0001165\n",
       "2429  ISIC_0029877.jpg  vasc  HAM_0006193\n",
       "9443  ISIC_0034053.jpg    nv  HAM_0001442\n",
       "8573  ISIC_0030733.jpg    nv  HAM_0006245\n",
       "2091  ISIC_0024961.jpg   mel  HAM_0006006"
      ]
     },
     "execution_count": 36,
     "metadata": {},
     "output_type": "execute_result"
    }
   ],
   "source": [
    "X.sample(5)"
   ]
  },
  {
   "cell_type": "code",
   "execution_count": 37,
   "id": "486e9bab",
   "metadata": {},
   "outputs": [],
   "source": [
    "from sklearn.model_selection import train_test_split\n",
    "Y= X.pop('dx').to_frame()\n",
    "X_train, X_test, y_train, y_test = train_test_split(X,Y, test_size = 0.2, random_state=123)\n",
    "X_train, X_val, y_train, y_val = train_test_split(X_train, y_train, test_size = 0.2, random_state = 123)"
   ]
  },
  {
   "cell_type": "code",
   "execution_count": 38,
   "id": "9300cf88",
   "metadata": {},
   "outputs": [],
   "source": [
    "train = pd.concat([X_train, y_train], axis =1)\n",
    "val = pd.concat([X_val, y_val],axis=1)\n",
    "test = pd.concat([X_test, y_test],axis=1)"
   ]
  },
  {
   "cell_type": "code",
   "execution_count": 39,
   "id": "40abc0f7",
   "metadata": {},
   "outputs": [],
   "source": [
    "from sklearn.preprocessing import LabelEncoder\n",
    "encoder = LabelEncoder()\n",
    "encoder.fit(val['dx'])\n",
    "name_as_indexes_train=encoder.transform(val['dx'])\n",
    "val['label']= name_as_indexes_train"
   ]
  },
  {
   "cell_type": "code",
   "execution_count": 40,
   "id": "c40badec",
   "metadata": {},
   "outputs": [],
   "source": [
    "encoder = LabelEncoder()\n",
    "encoder.fit(test['dx'])\n",
    "name_as_indexes_test=encoder.transform(test['dx'])\n",
    "test['label'] = name_as_indexes_test"
   ]
  },
  {
   "cell_type": "code",
   "execution_count": 41,
   "id": "50752e2a",
   "metadata": {},
   "outputs": [],
   "source": [
    "from keras_preprocessing.image import ImageDataGenerator\n",
    "train_generator = ImageDataGenerator(rescale = 1./255,\n",
    "                                    rotation_range = 30,\n",
    "                                    zoom_range = 0.1,\n",
    "                                    width_shift_range = 0.0, height_shift_range=0.00)"
   ]
  },
  {
   "cell_type": "code",
   "execution_count": 42,
   "id": "f2372a9d",
   "metadata": {},
   "outputs": [
    {
     "name": "stdout",
     "output_type": "stream",
     "text": [
      "Found 6409 validated image filenames belonging to 7 classes.\n"
     ]
    }
   ],
   "source": [
    "train_data = train_generator.flow_from_dataframe(dataframe = train,x_col='image_full_name',y_col = 'dx',\n",
    "                                                batch_size = 32, directory = '../../images/HAM10000_images/',\n",
    "                                                shuffle=True, class_mode='categorical',target_size=(128,128))"
   ]
  },
  {
   "cell_type": "code",
   "execution_count": 43,
   "id": "917fcc25",
   "metadata": {},
   "outputs": [],
   "source": [
    "test_generator = ImageDataGenerator(rescale = 1./255, rotation_range =30,\n",
    "                                   zoom_range = 0.1,\n",
    "                                   width_shift_range=0.0, height_shift_range=0.02)"
   ]
  },
  {
   "cell_type": "code",
   "execution_count": 50,
   "id": "4c3baa27",
   "metadata": {},
   "outputs": [
    {
     "name": "stdout",
     "output_type": "stream",
     "text": [
      "Found 2003 validated image filenames.\n"
     ]
    }
   ],
   "source": [
    "test_data = test_generator.flow_from_dataframe(dataframe = test, x_col='image_full_name', y_col='dx',\n",
    "                                              directory='../../images/HAM10000_images/',\n",
    "                                              shuffle = False, batch_size = 1, class_mode = None, target_size = (128,128))"
   ]
  },
  {
   "cell_type": "code",
   "execution_count": 45,
   "id": "68e8ebbc",
   "metadata": {},
   "outputs": [
    {
     "name": "stdout",
     "output_type": "stream",
     "text": [
      "Found 1603 validated image filenames belonging to 7 classes.\n"
     ]
    }
   ],
   "source": [
    "val_data=test_generator.flow_from_dataframe(dataframe=val, x_col='image_full_name',y_col='dx',\n",
    "                                           directory = '../../images/HAM10000_images/',\n",
    "                                           batch_size=64, shuffle=False, class_mode='categorical',target_size=(128,128))"
   ]
  },
  {
   "cell_type": "code",
   "execution_count": 46,
   "id": "d663e7d9",
   "metadata": {},
   "outputs": [],
   "source": [
    "from keras.callbacks import ReduceLROnPlateau\n",
    "learning_control = ReduceLROnPlateau(monitor = 'val_accuracy',\n",
    "                                     patience = 3,\n",
    "                                     verbose = 1,\n",
    "                                    factor= .5,\n",
    "                                    min_lr=0.0001)"
   ]
  },
  {
   "cell_type": "code",
   "execution_count": 47,
   "id": "8a9aa54a",
   "metadata": {},
   "outputs": [],
   "source": [
    "from tensorflow.keras.optimizers import Adam\n",
    "from tensorflow.keras.optimizers import SGD\n",
    "sgd = tf.keras.optimizers.SGD(learning_rate = 0.01, clipvalue = 0.5)\n",
    "model.compile(optimizer = sgd ,loss = 'categorical_crossentropy', metrics=['accuracy'])"
   ]
  },
  {
   "cell_type": "code",
   "execution_count": 48,
   "id": "0d64822a",
   "metadata": {},
   "outputs": [
    {
     "name": "stdout",
     "output_type": "stream",
     "text": [
      "Epoch 1/30\n",
      "201/201 [==============================] - 206s 999ms/step - loss: 0.9127 - accuracy: 0.6925 - val_loss: 2.0000 - val_accuracy: 0.6694 - lr: 0.0100\n",
      "Epoch 2/30\n",
      "201/201 [==============================] - 219s 1s/step - loss: 0.7046 - accuracy: 0.7466 - val_loss: 2.1873 - val_accuracy: 0.6694 - lr: 0.0100\n",
      "Epoch 3/30\n",
      "201/201 [==============================] - 227s 1s/step - loss: 0.6104 - accuracy: 0.7862 - val_loss: 3.3640 - val_accuracy: 0.6694 - lr: 0.0100\n",
      "Epoch 4/30\n",
      "201/201 [==============================] - ETA: 0s - loss: 0.5677 - accuracy: 0.7964\n",
      "Epoch 4: ReduceLROnPlateau reducing learning rate to 0.004999999888241291.\n",
      "201/201 [==============================] - 221s 1s/step - loss: 0.5677 - accuracy: 0.7964 - val_loss: 3.1234 - val_accuracy: 0.6694 - lr: 0.0100\n",
      "Epoch 5/30\n",
      "201/201 [==============================] - 222s 1s/step - loss: 0.4810 - accuracy: 0.8245 - val_loss: 3.2835 - val_accuracy: 0.6700 - lr: 0.0050\n",
      "Epoch 6/30\n",
      "201/201 [==============================] - 223s 1s/step - loss: 0.4348 - accuracy: 0.8348 - val_loss: 2.5629 - val_accuracy: 0.6744 - lr: 0.0050\n",
      "Epoch 7/30\n",
      "201/201 [==============================] - 225s 1s/step - loss: 0.3980 - accuracy: 0.8579 - val_loss: 1.7678 - val_accuracy: 0.6725 - lr: 0.0050\n",
      "Epoch 8/30\n",
      "201/201 [==============================] - 224s 1s/step - loss: 0.3684 - accuracy: 0.8657 - val_loss: 1.5137 - val_accuracy: 0.7018 - lr: 0.0050\n",
      "Epoch 9/30\n",
      "201/201 [==============================] - 223s 1s/step - loss: 0.3540 - accuracy: 0.8628 - val_loss: 1.1263 - val_accuracy: 0.7224 - lr: 0.0050\n",
      "Epoch 10/30\n",
      "201/201 [==============================] - 224s 1s/step - loss: 0.3227 - accuracy: 0.8758 - val_loss: 1.4136 - val_accuracy: 0.7249 - lr: 0.0050\n",
      "Epoch 11/30\n",
      "201/201 [==============================] - 230s 1s/step - loss: 0.2944 - accuracy: 0.8886 - val_loss: 1.3206 - val_accuracy: 0.7218 - lr: 0.0050\n",
      "Epoch 12/30\n",
      "201/201 [==============================] - 230s 1s/step - loss: 0.2834 - accuracy: 0.8962 - val_loss: 1.3559 - val_accuracy: 0.7411 - lr: 0.0050\n",
      "Epoch 13/30\n",
      "201/201 [==============================] - 218s 1s/step - loss: 0.2586 - accuracy: 0.9050 - val_loss: 0.6855 - val_accuracy: 0.7879 - lr: 0.0050\n",
      "Epoch 14/30\n",
      "201/201 [==============================] - 226s 1s/step - loss: 0.2491 - accuracy: 0.9084 - val_loss: 0.7117 - val_accuracy: 0.7742 - lr: 0.0050\n",
      "Epoch 15/30\n",
      "201/201 [==============================] - 227s 1s/step - loss: 0.2264 - accuracy: 0.9173 - val_loss: 0.9491 - val_accuracy: 0.7823 - lr: 0.0050\n",
      "Epoch 16/30\n",
      "201/201 [==============================] - ETA: 0s - loss: 0.2185 - accuracy: 0.9201\n",
      "Epoch 16: ReduceLROnPlateau reducing learning rate to 0.0024999999441206455.\n",
      "201/201 [==============================] - 240s 1s/step - loss: 0.2185 - accuracy: 0.9201 - val_loss: 0.9885 - val_accuracy: 0.7667 - lr: 0.0050\n",
      "Epoch 17/30\n",
      "201/201 [==============================] - 256s 1s/step - loss: 0.1749 - accuracy: 0.9348 - val_loss: 0.6728 - val_accuracy: 0.8129 - lr: 0.0025\n",
      "Epoch 18/30\n",
      "201/201 [==============================] - 247s 1s/step - loss: 0.1554 - accuracy: 0.9445 - val_loss: 0.8838 - val_accuracy: 0.8022 - lr: 0.0025\n",
      "Epoch 19/30\n",
      "201/201 [==============================] - 228s 1s/step - loss: 0.1534 - accuracy: 0.9420 - val_loss: 0.7238 - val_accuracy: 0.8066 - lr: 0.0025\n",
      "Epoch 20/30\n",
      "201/201 [==============================] - ETA: 0s - loss: 0.1460 - accuracy: 0.9490\n",
      "Epoch 20: ReduceLROnPlateau reducing learning rate to 0.0012499999720603228.\n",
      "201/201 [==============================] - 220s 1s/step - loss: 0.1460 - accuracy: 0.9490 - val_loss: 0.7788 - val_accuracy: 0.8116 - lr: 0.0025\n",
      "Epoch 21/30\n",
      "201/201 [==============================] - 217s 1s/step - loss: 0.1162 - accuracy: 0.9601 - val_loss: 0.6582 - val_accuracy: 0.8203 - lr: 0.0012\n",
      "Epoch 22/30\n",
      "201/201 [==============================] - 270s 1s/step - loss: 0.1188 - accuracy: 0.9562 - val_loss: 0.7324 - val_accuracy: 0.8284 - lr: 0.0012\n",
      "Epoch 23/30\n",
      "201/201 [==============================] - 242s 1s/step - loss: 0.1120 - accuracy: 0.9604 - val_loss: 0.6424 - val_accuracy: 0.8322 - lr: 0.0012\n",
      "Epoch 24/30\n",
      "201/201 [==============================] - 249s 1s/step - loss: 0.1122 - accuracy: 0.9610 - val_loss: 0.6322 - val_accuracy: 0.8372 - lr: 0.0012\n",
      "Epoch 25/30\n",
      "201/201 [==============================] - 231s 1s/step - loss: 0.1125 - accuracy: 0.9607 - val_loss: 0.6469 - val_accuracy: 0.8397 - lr: 0.0012\n",
      "Epoch 26/30\n",
      "201/201 [==============================] - 227s 1s/step - loss: 0.1046 - accuracy: 0.9646 - val_loss: 0.6758 - val_accuracy: 0.8366 - lr: 0.0012\n",
      "Epoch 27/30\n",
      "201/201 [==============================] - 228s 1s/step - loss: 0.1018 - accuracy: 0.9641 - val_loss: 0.6680 - val_accuracy: 0.8347 - lr: 0.0012\n",
      "Epoch 28/30\n",
      "201/201 [==============================] - ETA: 0s - loss: 0.1035 - accuracy: 0.9658\n",
      "Epoch 28: ReduceLROnPlateau reducing learning rate to 0.0006249999860301614.\n",
      "201/201 [==============================] - 224s 1s/step - loss: 0.1035 - accuracy: 0.9658 - val_loss: 0.6203 - val_accuracy: 0.8322 - lr: 0.0012\n",
      "Epoch 29/30\n",
      "201/201 [==============================] - 224s 1s/step - loss: 0.0846 - accuracy: 0.9704 - val_loss: 0.6227 - val_accuracy: 0.8403 - lr: 6.2500e-04\n",
      "Epoch 30/30\n",
      "201/201 [==============================] - 221s 1s/step - loss: 0.0848 - accuracy: 0.9724 - val_loss: 0.6176 - val_accuracy: 0.8384 - lr: 6.2500e-04\n"
     ]
    }
   ],
   "source": [
    "history = model.fit(train_data,\n",
    "                             #steps_per_epoch = train_data.samples//train_data.batch_size,\n",
    "                             validation_data = val_data,\n",
    "                             verbose=1,\n",
    "                             #validation_steps = val_data.samples//val_data.batch_size,\n",
    "                             epochs = 30,\n",
    "                             callbacks=[learning_control])"
   ]
  },
  {
   "cell_type": "code",
   "execution_count": 49,
   "id": "0038bd3a",
   "metadata": {},
   "outputs": [],
   "source": [
    "model.save('full_model_one.h5')"
   ]
  },
  {
   "cell_type": "code",
   "execution_count": 51,
   "id": "f376b6a7",
   "metadata": {},
   "outputs": [
    {
     "data": {
      "image/png": "[encoded data removed]",
      "text/plain": [
       "<Figure size 432x288 with 1 Axes>"
      ]
     },
     "metadata": {},
     "output_type": "display_data"
    }
   ],
   "source": [
    "import matplotlib.pyplot as plt\n",
    "plt.plot(history.history['accuracy'])\n",
    "plt.plot(history.history['val_accuracy'])\n",
    "plt.title('model accuracy')\n",
    "plt.ylabel('accuracy')\n",
    "plt.xlabel('epoch')\n",
    "plt.legend(['train','val'], loc='upper left')\n",
    "plt.show()"
   ]
  },
  {
   "cell_type": "code",
   "execution_count": 52,
   "id": "bfb780d6",
   "metadata": {},
   "outputs": [
    {
     "data": {
      "image/png": "[encoded data removed]",
      "text/plain": [
       "<Figure size 432x288 with 1 Axes>"
      ]
     },
     "metadata": {},
     "output_type": "display_data"
    }
   ],
   "source": [
    "plt.plot(history.history['loss'])\n",
    "plt.plot(history.history['val_loss'])\n",
    "plt.title('model loss')\n",
    "plt.ylabel('loss')\n",
    "plt.xlabel('epoch')\n",
    "plt.legend(['train','val'], loc='upper left')\n",
    "plt.show()"
   ]
  },
  {
   "cell_type": "code",
   "execution_count": 54,
   "id": "5fa2a372",
   "metadata": {},
   "outputs": [
    {
     "data": {
      "text/plain": [
       "<matplotlib.legend.Legend at 0x2b2804f0be0>"
      ]
     },
     "execution_count": 54,
     "metadata": {},
     "output_type": "execute_result"
    },
    {
     "data": {
      "image/png": "[encoded data removed]",
      "text/plain": [
       "<Figure size 432x288 with 1 Axes>"
      ]
     },
     "metadata": {},
     "output_type": "display_data"
    }
   ],
   "source": [
    "N = 30\n",
    "plt.style.use('ggplot')\n",
    "plt.figure()\n",
    "plt.plot(np.arange(0,N), history.history['loss'], label='train_loss')\n",
    "plt.plot(np.arange(0,N), history.history['val_loss'], label='val_loss')\n",
    "plt.plot(np.arange(0,N), history.history['accuracy'], label='train_accuracy')\n",
    "plt.plot(np.arange(0,N), history.history['val_accuracy'], label='train_accuracy')\n",
    "plt.title('Training Loss and Accuracy')\n",
    "plt.xlabel('epoch #')\n",
    "plt.ylabel('Loss/Accuracy')\n",
    "plt.legend(loc='lower left')"
   ]
  },
  {
   "cell_type": "code",
   "execution_count": 55,
   "id": "3b5c566f",
   "metadata": {},
   "outputs": [
    {
     "name": "stdout",
     "output_type": "stream",
     "text": [
      "2003/2003 [==============================] - 55s 27ms/step\n"
     ]
    }
   ],
   "source": [
    "test_data.reset()\n",
    "predictions = model.predict(test_data,\n",
    "                           steps = test_data.samples/test_data.batch_size,\n",
    "                           verbose=1)\n",
    "y_pred = np.argmax(predictions, axis=1)"
   ]
  },
  {
   "cell_type": "code",
   "execution_count": 56,
   "id": "e6ecae1f",
   "metadata": {},
   "outputs": [],
   "source": [
    "c = np.where(y_pred == name_as_indexes_test)"
   ]
  },
  {
   "cell_type": "code",
   "execution_count": 57,
   "id": "958406d5",
   "metadata": {},
   "outputs": [
    {
     "name": "stdout",
     "output_type": "stream",
     "text": [
      "Test Accuracy :  82.67598602096855\n"
     ]
    }
   ],
   "source": [
    "np.count_nonzero(c)\n",
    "print('Test Accuracy : ',(np.count_nonzero(c)/len(name_as_indexes_test))*100)"
   ]
  },
  {
   "cell_type": "code",
   "execution_count": 60,
   "id": "a73b1407",
   "metadata": {},
   "outputs": [
    {
     "name": "stdout",
     "output_type": "stream",
     "text": [
      "              precision    recall  f1-score   support\n",
      "\n",
      "           0       0.68      0.59      0.63        64\n",
      "           1       0.74      0.84      0.79       100\n",
      "           2       0.69      0.68      0.68       225\n",
      "           3       0.68      0.54      0.60        24\n",
      "           4       0.60      0.56      0.58       240\n",
      "           5       0.90      0.92      0.91      1320\n",
      "           6       0.82      0.77      0.79        30\n",
      "\n",
      "    accuracy                           0.83      2003\n",
      "   macro avg       0.73      0.70      0.71      2003\n",
      "weighted avg       0.82      0.83      0.82      2003\n",
      "\n"
     ]
    }
   ],
   "source": [
    "from sklearn.metrics import classification_report\n",
    "\n",
    "report = classification_report(name_as_indexes_test,y_pred)\n",
    "print(report)"
   ]
  },
  {
   "cell_type": "code",
   "execution_count": null,
   "id": "73d1e320",
   "metadata": {},
   "outputs": [],
   "source": []
  },
  {
   "cell_type": "code",
   "execution_count": 61,
   "id": "96039e55",
   "metadata": {},
   "outputs": [],
   "source": [
    "model.save('full_model_one.h5')"
   ]
  },
  {
   "cell_type": "code",
   "execution_count": null,
   "id": "33bd9267",
   "metadata": {},
   "outputs": [],
   "source": []
  }
 ],
 "metadata": {
  "kernelspec": {
   "display_name": "tf",
   "language": "python",
   "name": "tf"
  },
  "language_info": {
   "codemirror_mode": {
    "name": "ipython",
    "version": 3
   },
   "file_extension": ".py",
   "mimetype": "text/x-python",
   "name": "python",
   "nbconvert_exporter": "python",
   "pygments_lexer": "ipython3",
   "version": "3.9.12"
  }
 },
 "nbformat": 4,
 "nbformat_minor": 5
}
